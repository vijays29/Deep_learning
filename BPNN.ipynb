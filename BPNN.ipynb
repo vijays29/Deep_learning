{
 "cells": [
  {
   "cell_type": "code",
   "execution_count": 1,
   "id": "08c726cd",
   "metadata": {},
   "outputs": [
    {
     "name": "stdout",
     "output_type": "stream",
     "text": [
      "[[2. 9.]\n",
      " [1. 5.]\n",
      " [3. 6.]]\n",
      "_____________________\n",
      "[[92.]\n",
      " [86.]\n",
      " [89.]]\n",
      "_____________________\n",
      "[[0.66666667 1.        ]\n",
      " [0.33333333 0.55555556]\n",
      " [1.         0.66666667]]\n",
      "_____________________\n",
      "[[0.92]\n",
      " [0.86]\n",
      " [0.89]]\n"
     ]
    }
   ],
   "source": [
    "import numpy as np\n",
    "X = np.array(([2,9],[1,5],[3,6]),dtype=float)\n",
    "y = np.array(([92],[86],[89]),dtype=float)\n",
    "print(X)\n",
    "print(\"_____________________\")\n",
    "print(y)\n",
    "print(\"_____________________\")\n",
    "X = X/np.amax(X, axis=0)\n",
    "print(X)\n",
    "print(\"_____________________\")\n",
    "y = y/100\n",
    "print(y)"
   ]
  },
  {
   "cell_type": "code",
   "execution_count": null,
   "id": "02c78b8b",
   "metadata": {},
   "outputs": [],
   "source": []
  },
  {
   "cell_type": "code",
   "execution_count": 4,
   "id": "7b066a67",
   "metadata": {},
   "outputs": [
    {
     "name": "stdout",
     "output_type": "stream",
     "text": [
      "w1 [[ 2.4102141   0.64016022 -0.46680556]\n",
      " [-0.22613132  0.70785795 -0.51632005]]\n",
      "w2 [[-0.53473548]\n",
      " [-0.55255643]\n",
      " [ 2.07512343]]\n"
     ]
    }
   ],
   "source": [
    "class Neural_Network():\n",
    "    def __init__(self):\n",
    "        self.inputSize = 2\n",
    "        self.outputSize = 1\n",
    "        self.hiddenSize = 3\n",
    "        self.w1 = np.random.randn(self.inputSize,self.hiddenSize)\n",
    "        print(\"w1\",self.w1)\n",
    "        self.w2 = np.random.randn(self.hiddenSize,self.outputSize)\n",
    "        print(\"w2\",self.w2)\n",
    "    def forward(self,X):\n",
    "        self.z = np.dot(X,self.w1)\n",
    "        self.z2 = self.sigmoid(self.z)\n",
    "        self.z3 = np.dot(self.z2,self.w2)\n",
    "        o = self.sigmoid(self.z3)\n",
    "        print(self.z,self.z2,self.z3)\n",
    "        return 0\n",
    "    def sigmoid(self,s):\n",
    "        return 1/(1+np.exp(-s))\n",
    "    def sigmoidPrime(self,s):\n",
    "        return s*(1-s)\n",
    "    def backward(self,X,y,o):\n",
    "        self.o_error = y-o\n",
    "        self.o_delta = self.o_error*self.sigmoidPrime(o)\n",
    "        self.z2_error = self.o_delta.dot(self.w2.T)\n",
    "        self.z2_delta = self.z2_error*self.sigmoidPrime(self.z2)\n",
    "        self.w1 += X.T.dot(self.z2_delta)\n",
    "        self.w2 += self.z2.T.dot(self.o_delta)\n",
    "    def train(self,X,y):\n",
    "        o = self.forward(X)\n",
    "        self.backward(X,y,o)\n",
    "NN = Neural_Network()\n",
    "for i in range(0):\n",
    "    print(\"Input:\\n\"+str(X))\n",
    "    print(\"Actual output:\\n\"+str(y))\n",
    "    print(\"Predicted output:\\n\"+str(NN.forward(X)))\n",
    "    print(\"Loss:\\n\"+str(np.mean(np.square(y-NN.forward(X)))))\n",
    "    print(\"\\n\")\n",
    "    NN.train(X,y)"
   ]
  }
 ],
 "metadata": {
  "kernelspec": {
   "display_name": "Python 3 (ipykernel)",
   "language": "python",
   "name": "python3"
  },
  "language_info": {
   "codemirror_mode": {
    "name": "ipython",
    "version": 3
   },
   "file_extension": ".py",
   "mimetype": "text/x-python",
   "name": "python",
   "nbconvert_exporter": "python",
   "pygments_lexer": "ipython3",
   "version": "3.11.3"
  }
 },
 "nbformat": 4,
 "nbformat_minor": 5
}
